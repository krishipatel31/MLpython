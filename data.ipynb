{
 "cells": [
  {
   "cell_type": "code",
   "execution_count": 6,
   "id": "b1e57a48",
   "metadata": {},
   "outputs": [],
   "source": [
    "import pandas as pd"
   ]
  },
  {
   "cell_type": "code",
   "execution_count": 7,
   "id": "2eb68fb1",
   "metadata": {},
   "outputs": [
    {
     "name": "stdout",
     "output_type": "stream",
     "text": [
      "{'Name': ['Darshan', 'Nishitaba', 'Krishi', 'Suchi'], 'Age': [20, 21, 5, 2], 'Salary': [200000, 20000, 15000, 5000]}\n"
     ]
    }
   ],
   "source": [
    "data = {\n",
    "    'Name': ['Darshan','Nishitaba','Krishi','Suchi'],\n",
    "    'Age' : [20,21,5,2],\n",
    "    'Salary' : [200000,20000,15000,5000]\n",
    "}\n",
    "print(data)"
   ]
  },
  {
   "cell_type": "code",
   "execution_count": 8,
   "id": "477c78b9",
   "metadata": {},
   "outputs": [
    {
     "name": "stdout",
     "output_type": "stream",
     "text": [
      "        Name  Age  Salary\n",
      "0    Darshan   20  200000\n",
      "1  Nishitaba   21   20000\n",
      "2     Krishi    5   15000\n",
      "3      Suchi    2    5000\n"
     ]
    }
   ],
   "source": [
    "df = pd.DataFrame(data)\n",
    "print(df)"
   ]
  },
  {
   "cell_type": "code",
   "execution_count": 10,
   "id": "e639d57a",
   "metadata": {},
   "outputs": [
    {
     "name": "stdout",
     "output_type": "stream",
     "text": [
      "total salary :  240000\n"
     ]
    }
   ],
   "source": [
    "total_salary = df['Salary'].sum()\n",
    "print(\"total salary : \",total_salary)"
   ]
  },
  {
   "cell_type": "code",
   "execution_count": 11,
   "id": "f4ed3fb9",
   "metadata": {},
   "outputs": [
    {
     "name": "stdout",
     "output_type": "stream",
     "text": [
      "Average Age :  12.0\n"
     ]
    }
   ],
   "source": [
    "average_age = df['Age'].mean()\n",
    "print(\"Average Age : \",average_age)"
   ]
  },
  {
   "cell_type": "code",
   "execution_count": 12,
   "id": "fdafdbeb",
   "metadata": {},
   "outputs": [
    {
     "name": "stdout",
     "output_type": "stream",
     "text": [
      "Maximum Salary :  200000\n"
     ]
    }
   ],
   "source": [
    "max_salary = df['Salary'].max()\n",
    "print(\"Maximum Salary : \",max_salary)"
   ]
  },
  {
   "cell_type": "code",
   "execution_count": 13,
   "id": "3a956e3f",
   "metadata": {},
   "outputs": [
    {
     "name": "stdout",
     "output_type": "stream",
     "text": [
      "2\n"
     ]
    }
   ],
   "source": [
    "min_age = df['Age'].min()\n",
    "print(min_age)"
   ]
  },
  {
   "cell_type": "code",
   "execution_count": 15,
   "id": "40eb0267",
   "metadata": {},
   "outputs": [
    {
     "name": "stdout",
     "output_type": "stream",
     "text": [
      "Number of Rows :  4\n"
     ]
    }
   ],
   "source": [
    "row_count = df.shape[0]\n",
    "print(\"Number of Rows : \",row_count)\n"
   ]
  },
  {
   "cell_type": "code",
   "execution_count": 16,
   "id": "7627abb1",
   "metadata": {},
   "outputs": [
    {
     "data": {
      "text/html": [
       "<div>\n",
       "<style scoped>\n",
       "    .dataframe tbody tr th:only-of-type {\n",
       "        vertical-align: middle;\n",
       "    }\n",
       "\n",
       "    .dataframe tbody tr th {\n",
       "        vertical-align: top;\n",
       "    }\n",
       "\n",
       "    .dataframe thead th {\n",
       "        text-align: right;\n",
       "    }\n",
       "</style>\n",
       "<table border=\"1\" class=\"dataframe\">\n",
       "  <thead>\n",
       "    <tr style=\"text-align: right;\">\n",
       "      <th></th>\n",
       "      <th>Name</th>\n",
       "      <th>Age</th>\n",
       "      <th>Salary</th>\n",
       "    </tr>\n",
       "  </thead>\n",
       "  <tbody>\n",
       "    <tr>\n",
       "      <th>0</th>\n",
       "      <td>Darshan</td>\n",
       "      <td>20</td>\n",
       "      <td>200000</td>\n",
       "    </tr>\n",
       "    <tr>\n",
       "      <th>1</th>\n",
       "      <td>Nishitaba</td>\n",
       "      <td>21</td>\n",
       "      <td>20000</td>\n",
       "    </tr>\n",
       "    <tr>\n",
       "      <th>2</th>\n",
       "      <td>Krishi</td>\n",
       "      <td>5</td>\n",
       "      <td>15000</td>\n",
       "    </tr>\n",
       "    <tr>\n",
       "      <th>3</th>\n",
       "      <td>Suchi</td>\n",
       "      <td>2</td>\n",
       "      <td>5000</td>\n",
       "    </tr>\n",
       "  </tbody>\n",
       "</table>\n",
       "</div>"
      ],
      "text/plain": [
       "        Name  Age  Salary\n",
       "0    Darshan   20  200000\n",
       "1  Nishitaba   21   20000\n",
       "2     Krishi    5   15000\n",
       "3      Suchi    2    5000"
      ]
     },
     "execution_count": 16,
     "metadata": {},
     "output_type": "execute_result"
    }
   ],
   "source": [
    "df"
   ]
  },
  {
   "cell_type": "code",
   "execution_count": 19,
   "id": "6c01744e",
   "metadata": {},
   "outputs": [],
   "source": [
    "df.to_csv(\"newdata.csv\",index=False)"
   ]
  },
  {
   "cell_type": "code",
   "execution_count": null,
   "id": "d940ea06",
   "metadata": {},
   "outputs": [],
   "source": []
  }
 ],
 "metadata": {
  "kernelspec": {
   "display_name": "Python 3 (ipykernel)",
   "language": "python",
   "name": "python3"
  },
  "language_info": {
   "codemirror_mode": {
    "name": "ipython",
    "version": 3
   },
   "file_extension": ".py",
   "mimetype": "text/x-python",
   "name": "python",
   "nbconvert_exporter": "python",
   "pygments_lexer": "ipython3",
   "version": "3.9.12"
  }
 },
 "nbformat": 4,
 "nbformat_minor": 5
}
